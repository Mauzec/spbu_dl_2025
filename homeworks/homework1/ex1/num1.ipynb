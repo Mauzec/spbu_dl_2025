{
 "cells": [
  {
   "cell_type": "code",
   "execution_count": null,
   "id": "8a15c6f5",
   "metadata": {},
   "outputs": [],
   "source": [
    "import numpy as np\n",
    "import torch\n",
    "from pathlib import Path\n",
    "from matplotlib import pyplot as plt\n",
    "from typing import Sequence, Tuple, Union\n",
    "import time"
   ]
  },
  {
   "cell_type": "code",
   "execution_count": null,
   "id": "4e5da23e",
   "metadata": {},
   "outputs": [],
   "source": [
    "def float_tensor(x) -> torch.Tensor:\n",
    "    if isinstance(x, torch.Tensor):\n",
    "        return x.clone().detach().float()\n",
    "    \n",
    "    return torch.tensor(x, dtype=torch.float32)\n",
    "\n",
    "def train_neuron(\n",
    "    feats: torch.Tensor,\n",
    "    lbls: torch.Tensor,\n",
    "    init_w: torch.Tensor,\n",
    "    lr: float,\n",
    "    init_bias: Union[float, int],\n",
    "    \n",
    "    epochs: int,\n",
    "    \n",
    "    eps: float = 1e-7\n",
    ") -> Tuple[Sequence[float], float, Sequence[float]]:\n",
    "    \n",
    "    w = float_tensor(init_w).view(-1)\n",
    "    bias = torch.tensor(float(init_bias), dtype=torch.float32)\n",
    "    feats = float_tensor(feats)\n",
    "    lbls = float_tensor(lbls).view(-1)\n",
    "    \n",
    "    if epochs <= 0 or lr <= 0 or w.shape[0] != feats.shape[1] or feats.shape[0] != lbls.shape[0]:\n",
    "        raise ValueError('invalid params')\n",
    "    \n",
    "    if feats.shape[0] == 0:\n",
    "        raise ValueError('empty feats')\n",
    "    \n",
    "    n_smpls = feats.shape[0]\n",
    "    nllhist: list[float] = []\n",
    "\n",
    "    for _ in range(epochs):\n",
    "        logits = feats @ w + bias\n",
    "        \n",
    "        preds = torch.sigmoid(logits)\n",
    "        probs = torch.clamp(preds, eps, 1.0-eps)\n",
    "        \n",
    "        loss  = - (lbls*torch.log(probs) + (1.0-lbls) * torch.log(1.0-probs)\n",
    "                   ).mean()\n",
    "        nllhist.append(float(loss))\n",
    "        err = preds-lbls\n",
    "        \n",
    "        grad_w = feats.t() @ err / n_smpls\n",
    "        grad_b = err.mean()\n",
    "        \n",
    "        w -= lr*grad_w\n",
    "        bias -= lr*grad_b\n",
    "        \n",
    "    return w.tolist(), float(bias.item()), nllhist\n",
    "    "
   ]
  },
  {
   "cell_type": "code",
   "execution_count": null,
   "id": "82db3b16",
   "metadata": {},
   "outputs": [],
   "source": [
    "TRAIN_PATH  = Path.cwd() / 'YearPredictionMSD_train.txt'\n",
    "TEST_PATH   = Path.cwd() / 'YearPredictionMSD_test.txt'"
   ]
  },
  {
   "cell_type": "code",
   "execution_count": null,
   "id": "3e4902cd",
   "metadata": {},
   "outputs": [],
   "source": [
    "def load(\n",
    "    path: Path,\n",
    "    neg_year: int, pos_year: int,\n",
    "    class_samples: Union[None,int]=None,\n",
    "    \n",
    "    seed: int = 0\n",
    ") -> Tuple[torch.Tensor, torch.Tensor]:\n",
    "    if not path.exists():\n",
    "        raise FileNotFoundError(f'where is {path}?')\n",
    "    \n",
    "    ds = np.loadtxt(path, delimiter=',', dtype=np.float32)\n",
    "    \n",
    "    years,feats = ds[:,0], ds[:,1:]\n",
    "    neg_idxs = np.where(years<neg_year)[0]\n",
    "    pos_idxs = np.where(years>pos_year)[0]\n",
    "    \n",
    "    rng = np.random.default_rng(seed)\n",
    "    \n",
    "    neg_smpl = rng.choice(\n",
    "        neg_idxs, \n",
    "        size=min(int(class_samples), neg_idxs.size), \n",
    "        replace=False,\n",
    "    ) if class_samples is not None else neg_idxs\n",
    "    pos_smpl = rng.choice(\n",
    "        pos_idxs, \n",
    "        size=min(int(class_samples), pos_idxs.size), \n",
    "        replace=False,\n",
    "    ) if class_samples is not None else pos_idxs\n",
    "    sel_idxs = np.concatenate([neg_smpl, pos_smpl])\n",
    "    rng.shuffle(sel_idxs)\n",
    "    return \\\n",
    "        torch.from_numpy(feats[sel_idxs]),\\\n",
    "        torch.from_numpy((years[sel_idxs]==pos_year).astype(np.float32))"
   ]
  },
  {
   "cell_type": "code",
   "execution_count": null,
   "id": "862c47a8",
   "metadata": {},
   "outputs": [],
   "source": [
    "def std_feats(\n",
    "    feats: torch.Tensor,\n",
    "    \n",
    "    eps: float=1e-7,\n",
    "    \n",
    "    mean: Union[None, torch.Tensor]=None,\n",
    "    std: Union[None, torch.Tensor]=None,\n",
    ") -> Tuple[torch.Tensor, torch.Tensor, torch.Tensor]:\n",
    "    if mean is None: mean = feats.mean(dim=0)\n",
    "    if std is None:  std = feats.std(dim=0)\n",
    "    adj = torch.where(std<eps, torch.ones_like(std), std)\n",
    "    return (feats - mean) / adj, mean, adj"
   ]
  },
  {
   "cell_type": "code",
   "execution_count": null,
   "id": "8a093081",
   "metadata": {},
   "outputs": [],
   "source": [
    "def calc_neuron(\n",
    "    feats: torch.Tensor,\n",
    "    w: Union[torch.Tensor, Sequence[float]],\n",
    "    lbls: torch.Tensor,\n",
    "    bias: Union[torch.Tensor, float],\n",
    "    \n",
    "    eps: float =1e-7,\n",
    ") -> Tuple[float, float]:\n",
    "    if isinstance(w, torch.Tensor):\n",
    "        w = w.detach().float()\n",
    "    else:\n",
    "        w=torch.tensor(w, dtype=torch.float32)\n",
    "\n",
    "    bias = float(bias)\n",
    "    logits = feats @ w + bias\n",
    "    probs = torch.clamp(torch.sigmoid(logits), eps, 1.0-eps)\n",
    "    preds = (\n",
    "        probs >= .5\n",
    "    ).float()\n",
    "    \n",
    "    nll = -(\n",
    "        lbls*torch.log(probs) + (1.0-lbls)*torch.log(1.0-probs)\n",
    "    ).mean().item()\n",
    "    return nll, (preds==lbls).float().mean().item()"
   ]
  },
  {
   "cell_type": "code",
   "execution_count": null,
   "id": "0d5f4af4",
   "metadata": {},
   "outputs": [],
   "source": [
    "neg,pos = 1999,2000\n",
    "train_class_samples = int(6*1000)\n",
    "test_class_samples = int(2.5*1000)\n",
    "train_feats,train_lbls = load(\n",
    "    TRAIN_PATH,\n",
    "    neg,pos,\n",
    "    train_class_samples,\n",
    "    int(time.time())\n",
    ")\n",
    "train_feats, mean, std = std_feats(train_feats)\n",
    "test_feats,test_lbls = load(\n",
    "    TEST_PATH,\n",
    "    neg,pos,\n",
    "    test_class_samples,\n",
    "    int(time.time())\n",
    ")\n",
    "test_feats, _, _ = std_feats(test_feats, mean=mean, std=std)"
   ]
  },
  {
   "cell_type": "code",
   "execution_count": null,
   "id": "7e82b11e",
   "metadata": {},
   "outputs": [
    {
     "name": "stdout",
     "output_type": "stream",
     "text": [
      "train size: torch.Size([12000, 90])\n",
      "test size: torch.Size([5000, 90])\n"
     ]
    }
   ],
   "source": [
    "print(f'train size: {train_feats.shape}')\n",
    "print(f'test size: {test_feats.shape}')"
   ]
  },
  {
   "cell_type": "code",
   "execution_count": null,
   "id": "9f64e876",
   "metadata": {},
   "outputs": [],
   "source": [
    "torch.manual_seed(int(time.time()))\n",
    "lr, epochs = .1, 250\n",
    "init_w = torch.zeros(train_feats.shape[1], dtype=torch.float32)\n",
    "init_bias = 0.0\n",
    "\n",
    "upd_w, upd_bias, nllhist = train_neuron(\n",
    "    train_feats,\n",
    "    train_lbls,\n",
    "    init_w,\n",
    "    lr,\n",
    "    init_bias,\n",
    "    epochs,\n",
    ")"
   ]
  },
  {
   "cell_type": "code",
   "execution_count": null,
   "id": "27a0c81d",
   "metadata": {},
   "outputs": [
    {
     "name": "stdout",
     "output_type": "stream",
     "text": [
      "nllhist[:6]: [0.6931472420692444, 0.6684597134590149, 0.6449905633926392, 0.6226778030395508, 0.6014619469642639, 0.5812851190567017]\n",
      "nllhist[-6:]: [0.04364878311753273, 0.04346673935651779, 0.04328617453575134, 0.043107084929943085, 0.04292943701148033, 0.04275321960449219]\n",
      "bias: -3.135\n"
     ]
    }
   ],
   "source": [
    "print(f'nllhist[:6]:', nllhist[:6])\n",
    "print(f'nllhist[-6:]:', nllhist[-6:])\n",
    "print(f'bias: {upd_bias:.3f}')\n"
   ]
  },
  {
   "cell_type": "code",
   "execution_count": null,
   "id": "7e8c0c49",
   "metadata": {},
   "outputs": [],
   "source": [
    "tensor_w = torch.tensor(upd_w, dtype=torch.float32)\n",
    "nlltrain,acctrain = calc_neuron(\n",
    "    train_feats, tensor_w, train_lbls, upd_bias\n",
    ")\n",
    "nlltest,acctest = calc_neuron(\n",
    "    test_feats, tensor_w, test_lbls, upd_bias\n",
    ")"
   ]
  },
  {
   "cell_type": "code",
   "execution_count": null,
   "id": "e6365673",
   "metadata": {},
   "outputs": [
    {
     "name": "stdout",
     "output_type": "stream",
     "text": [
      "train nll: 0.043, acc: 1.0000\n",
      "train nll: 0.043, acc: 1.0000\n"
     ]
    }
   ],
   "source": [
    "print(f'train nll: {nlltrain:.3f}, acc: {acctrain:.4f}')\n",
    "print(f'train nll: {nlltest:.3f}, acc: {acctest:.4f}')"
   ]
  },
  {
   "cell_type": "code",
   "execution_count": null,
   "id": "d328ec74",
   "metadata": {},
   "outputs": [
    {
     "data": {
      "image/png": "[encoded data removed]",
      "text/plain": [
       "<Figure size 600x300 with 1 Axes>"
      ]
     },
     "metadata": {},
     "output_type": "display_data"
    }
   ],
   "source": [
    "plt.figure(figsize=(6,3))\n",
    "plt.plot(range(len(nllhist)), nllhist)\n",
    "plt.xlabel('epoch')\n",
    "plt.ylabel('nll')\n",
    "plt.title('nll train curve for neurong')\n",
    "plt.grid(True)\n",
    "plt.tight_layout()\n",
    "\n",
    "plt.show()"
   ]
  },
  {
   "cell_type": "markdown",
   "id": "5def3995",
   "metadata": {},
   "source": [
    "Synthetic data\n"
   ]
  },
  {
   "cell_type": "code",
   "execution_count": null,
   "id": "ecfff05a",
   "metadata": {},
   "outputs": [],
   "source": [
    "torch.manual_seed(int(time.time()))\n",
    "class_samples = 250\n",
    "\n",
    "sneg = torch.tensor([-5.0,-1.0])+.8*torch.randn(class_samples,2)\n",
    "spos = torch.tensor([+5.0,+1.5])+.8*torch.randn(class_samples,2)\n",
    "sfeats = torch.cat([sneg,spos],dim=0)\n",
    "slbls  = torch.cat([\n",
    "    torch.zeros(class_samples),\n",
    "    torch.ones(class_samples)\n",
    "])\n",
    "\n",
    "sfeats, smean, sstd = std_feats(sfeats)\n",
    "sinit_w = torch.zeros(sfeats.shape[1])\n",
    "slr, sepochs = .12, 100\n",
    "sw,sbias, snll = train_neuron(\n",
    "    sfeats, slbls, sinit_w, slr, 0.0, sepochs\n",
    ")\n",
    "stensor_w = torch.tensor(sw)\n",
    "\n",
    "snll_val, sacc = calc_neuron(\n",
    "    sfeats, stensor_w, slbls, sbias\n",
    ")\n"
   ]
  },
  {
   "cell_type": "code",
   "execution_count": null,
   "id": "bc93462b",
   "metadata": {},
   "outputs": [
    {
     "name": "stdout",
     "output_type": "stream",
     "text": [
      "nll: 0.071, acc: 1.0000\n"
     ]
    }
   ],
   "source": [
    "print(f'nll: {snll_val:.3f}, acc: {sacc:.4f}')"
   ]
  },
  {
   "cell_type": "code",
   "execution_count": null,
   "id": "c0feafc5",
   "metadata": {},
   "outputs": [
    {
     "data": {
      "image/png": "[encoded data removed]",
      "text/plain": [
       "<Figure size 600x300 with 1 Axes>"
      ]
     },
     "metadata": {},
     "output_type": "display_data"
    }
   ],
   "source": [
    "plt.figure(figsize=(6,3))\n",
    "plt.plot(snll)\n",
    "plt.xlabel('epochs')\n",
    "plt.ylabel('nll')\n",
    "plt.grid(True)\n",
    "plt.tight_layout()\n",
    "plt.show()"
   ]
  },
  {
   "cell_type": "markdown",
   "id": "9c3a5a08",
   "metadata": {},
   "source": [
    "Mini-Batch "
   ]
  },
  {
   "cell_type": "code",
   "execution_count": null,
   "id": "e2c467bf",
   "metadata": {},
   "outputs": [],
   "source": [
    "def train_neuron_mbatch(\n",
    "    feats: torch.Tensor,\n",
    "    lbls: torch.Tensor,\n",
    "    init_w: torch.Tensor,\n",
    "    lr: float,\n",
    "    init_bias: Union[float, int],\n",
    "    \n",
    "    epochs: int,\n",
    "    batch_size: int,\n",
    "    \n",
    "    eps: float = 1e-7\n",
    ") -> Tuple[Sequence[float], float, Sequence[float]]:\n",
    "    \n",
    "    w = float_tensor(init_w).view(-1)\n",
    "    bias = torch.tensor(float(init_bias), dtype=torch.float32)\n",
    "    feats = float_tensor(feats)\n",
    "    lbls = float_tensor(lbls).view(-1)\n",
    "    \n",
    "    n_smpls = feats.shape[0]\n",
    "    nllhist: list[float] = []\n",
    "    batch_size = min(batch_size, n_smpls)\n",
    "    \n",
    "    for _ in range (epochs):\n",
    "        perm = torch.randperm(n_smpls)\n",
    "        \n",
    "        feats_sh = feats[perm]\n",
    "        lbls_sh  = lbls[perm]\n",
    "        \n",
    "        epoch_loss = .0\n",
    "        for i in range(0,n_smpls,batch_size):\n",
    "            j = i+batch_size\n",
    "            \n",
    "            bfeats = feats_sh[i:j]\n",
    "            blbls  = lbls_sh[i:j]\n",
    "            \n",
    "            logits = bfeats @ w+ bias\n",
    "            preds  = torch.sigmoid(logits)\n",
    "            probs  = torch.clamp(preds, eps, 1.0-eps)\n",
    "\n",
    "            epoch_loss += float(\n",
    "                -(blbls*torch.log(probs)\n",
    "                  +(1.0-blbls)*torch.log(1.0-probs)\n",
    ").mean()   \n",
    "            )*bfeats.shape[0]\n",
    "            \n",
    "            err = preds-blbls\n",
    "            \n",
    "            grad_w = bfeats.t() @ err / bfeats.shape[0]\n",
    "            grad_b = err.mean()\n",
    "            \n",
    "            w -= lr*grad_w\n",
    "            bias -= lr*grad_b\n",
    "        \n",
    "        nllhist.append(float(epoch_loss/n_smpls))\n",
    "    return w.tolist(), float(bias.item()), nllhist\n"
   ]
  },
  {
   "cell_type": "code",
   "execution_count": null,
   "id": "8b8ed044",
   "metadata": {},
   "outputs": [],
   "source": [
    "\n",
    "epochs = 300\n",
    "lr = .09\n",
    "\n",
    "batch_size = 128\n",
    "\n",
    "init_w = torch.zeros(train_feats.shape[1])\n",
    "init_bias = .0"
   ]
  },
  {
   "cell_type": "code",
   "execution_count": null,
   "id": "ea12aedf",
   "metadata": {},
   "outputs": [],
   "source": [
    "w1, bias1, hist1 = train_neuron(\n",
    "    train_feats, train_lbls,\n",
    "    init_w, lr, init_bias,\n",
    "    epochs\n",
    ")\n",
    "w2, bias2, hist2 = train_neuron_mbatch(\n",
    "    train_feats, train_lbls,\n",
    "    init_w, lr, init_bias,\n",
    "    epochs, batch_size\n",
    ")\n",
    "\n",
    "nlltrain1, acctrain1 = calc_neuron(\n",
    "    train_feats, torch.tensor(w1), train_lbls, bias1\n",
    ")\n",
    "nlltest1, acctest1 = calc_neuron(\n",
    "    test_feats, torch.tensor(w1), test_lbls, bias1\n",
    ")\n",
    "\n",
    "nlltrain2, acctrain2 = calc_neuron(\n",
    "    train_feats, torch.tensor(w2), train_lbls, bias2\n",
    ")\n",
    "nlltest2, acctest2 = calc_neuron(\n",
    "    test_feats, torch.tensor(w2), test_lbls, bias2\n",
    ")\n",
    "\n"
   ]
  },
  {
   "cell_type": "code",
   "execution_count": null,
   "id": "6b9e875c",
   "metadata": {},
   "outputs": [
    {
     "name": "stdout",
     "output_type": "stream",
     "text": [
      "fullbatch: nlltrain: 0.039, acctrain: 1.0000\n",
      "fullbatch: nlltest:  0.039, acctest:  1.0000\n",
      "mbatch:    nlltrain: 0.000, acctrain: 1.0000\n",
      "mbatch:    nlltest:  0.000, acctest:  1.0000\n"
     ]
    }
   ],
   "source": [
    "print(f'fullbatch: nlltrain: {nlltrain1:.3f}, acctrain: {acctrain1:.4f}')\n",
    "print(f'fullbatch: nlltest:  {nlltest1:.3f}, acctest:  {acctest1:.4f}')\n",
    "print(f'mbatch:    nlltrain: {nlltrain2:.3f}, acctrain: {acctrain2:.4f}')\n",
    "print(f'mbatch:    nlltest:  {nlltest2:.3f}, acctest:  {acctest2:.4f}')\n"
   ]
  },
  {
   "cell_type": "code",
   "execution_count": null,
   "id": "130d359c",
   "metadata": {},
   "outputs": [
    {
     "data": {
      "image/png": "[encoded data removed]",
      "text/plain": [
       "<Figure size 600x300 with 1 Axes>"
      ]
     },
     "metadata": {},
     "output_type": "display_data"
    }
   ],
   "source": [
    "plt.figure(figsize=(6,3))\n",
    "plt.plot(hist1, label='fullbatch', linewidth=2)\n",
    "plt.plot(hist2, label=f'mbatch({batch_size})', linestyle='--', linewidth=2)\n",
    "plt.xlabel('epochs')\n",
    "plt.ylabel('nll')\n",
    "plt.title('nll train cureve')\n",
    "plt.grid(True)\n",
    "plt.legend()\n",
    "\n",
    "plt.tight_layout()\n",
    "plt.show()"
   ]
  },
  {
   "cell_type": "markdown",
   "id": "3ffd6538",
   "metadata": {},
   "source": [
    "comparasion with "
   ]
  },
  {
   "cell_type": "code",
   "execution_count": null,
   "id": "8e2b5e97",
   "metadata": {},
   "outputs": [
    {
     "name": "stdout",
     "output_type": "stream",
     "text": [
      "no-std, fullbatch (lr=0.02):  nll: 0.1843, acc: 0.9250\n",
      "no-std, mbatch   (lr=0.02):  nll: 0.1827, acc: 0.9233\n",
      "std, fullbatch   (lr=0.2): nll: 0.2037, acc: 0.9200\n",
      "std, mbatch      (lr=0.2): nll: 0.1775, acc: 0.9200\n"
     ]
    }
   ],
   "source": [
    "samples = 600\n",
    "x1,x2 = 18*torch.randn(samples), 0.18*torch.randn(samples)\n",
    "feats = torch.stack([x1,x2], dim=1)\n",
    "w,b = torch.tensor([.45, -2.8]), -.3\n",
    "probs = torch.sigmoid(feats@w+b)\n",
    "lbls  = (torch.rand(samples) < probs).float()\n",
    "\n",
    "feats_norm,mean,std = std_feats(feats)\n",
    "\n",
    "epochs = 300\n",
    "lr_raw = 0.02\n",
    "lr_std = 0.2\n",
    "batch_size = 64\n",
    "init_w = torch.zeros(feats.shape[1])\n",
    "\n",
    "w1, b1, hist1 = train_neuron(\n",
    "    feats, lbls, init_w, lr_raw, .0, epochs\n",
    ")\n",
    "w2, b2, hist2 = train_neuron_mbatch(\n",
    "    feats, lbls, init_w, lr_raw, .0, epochs, batch_size\n",
    ")\n",
    "\n",
    "w3, b3, hist3 = train_neuron(\n",
    "    feats_norm, lbls, init_w, lr_std, .0, epochs\n",
    ")\n",
    "w4, b4, hist4 = train_neuron_mbatch(\n",
    "    feats_norm, lbls, init_w, lr_std, .0, epochs, batch_size\n",
    ")\n",
    "\n",
    "w1_nll, w1_acc = calc_neuron(\n",
    "    feats, torch.tensor(w1), lbls, b1\n",
    ")\n",
    "w2_nll, w2_acc = calc_neuron(\n",
    "    feats, torch.tensor(w2), lbls, b2\n",
    ")\n",
    "w3_nll, w3_acc = calc_neuron(\n",
    "    feats_norm, torch.tensor(w3), lbls, b3\n",
    ")\n",
    "w4_nll, w4_acc = calc_neuron(\n",
    "    feats_norm, torch.tensor(w4), lbls, b4\n",
    ")\n",
    "print(f'no-std, fullbatch (lr={lr_raw}):  nll: {w1_nll:.4f}, acc: {w1_acc:.4f}')\n",
    "print(f'no-std, mbatch   (lr={lr_raw}):  nll: {w2_nll:.4f}, acc: {w2_acc:.4f}')\n",
    "print(f'std, fullbatch   (lr={lr_std}): nll: {w3_nll:.4f}, acc: {w3_acc:.4f}')\n",
    "print(f'std, mbatch      (lr={lr_std}): nll: {w4_nll:.4f}, acc: {w4_acc:.4f}')\n",
    "\n"
   ]
  },
  {
   "cell_type": "code",
   "execution_count": null,
   "id": "737a9b75",
   "metadata": {},
   "outputs": [
    {
     "data": {
      "image/png": "[encoded data removed]",
      "text/plain": [
       "<Figure size 1000x300 with 1 Axes>"
      ]
     },
     "metadata": {},
     "output_type": "display_data"
    }
   ],
   "source": [
    "plt.figure(figsize=(10,3))\n",
    "plt.subplot(1,2,1)\n",
    "plt.plot(hist1, label='no-std fullbatch', linewidth=2)\n",
    "plt.plot(hist2, label=f'no-std mbatch({batch_size})', linewidth=2, linestyle='--')\n",
    "plt.plot(hist3, label='std fullbatch', linewidth=2, alpha=.7)\n",
    "plt.plot(hist4, label=f'std mbatch({batch_size})', linewidth=2, linestyle='--', alpha=.7)\n",
    "plt.xlabel('epochs')\n",
    "plt.ylabel('nll')\n",
    "plt.grid(True)\n",
    "plt.legend()\n",
    "\n",
    "plt.tight_layout()\n",
    "plt.show()"
   ]
  },
  {
   "cell_type": "markdown",
   "id": "d141b6e4",
   "metadata": {},
   "source": [
    "В итоге minibatch ускоряет обучение, но +- в нашем случае близок к fullbatch на больших эпохах"
   ]
  }
 ],
 "metadata": {
  "kernelspec": {
   "display_name": "Python 3",
   "language": "python",
   "name": "python3"
  },
  "language_info": {
   "codemirror_mode": {
    "name": "ipython",
    "version": 3
   },
   "file_extension": ".py",
   "mimetype": "text/x-python",
   "name": "python",
   "nbconvert_exporter": "python",
   "pygments_lexer": "ipython3",
   "version": "3.11.13"
  }
 },
 "nbformat": 4,
 "nbformat_minor": 5
}
