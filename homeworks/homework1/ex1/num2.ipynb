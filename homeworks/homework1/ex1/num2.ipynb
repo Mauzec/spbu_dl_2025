{
 "cells": [
  {
   "cell_type": "code",
   "execution_count": null,
   "id": "40008650",
   "metadata": {},
   "outputs": [],
   "source": [
    "import numpy as np\n",
    "import torch\n",
    "from pathlib import Path\n",
    "from matplotlib import pyplot as plt\n",
    "from typing import Sequence, Tuple, Union\n",
    "import time\n",
    "import unittest"
   ]
  },
  {
   "cell_type": "code",
   "execution_count": null,
   "id": "95eadb2e",
   "metadata": {},
   "outputs": [],
   "source": [
    "class Element:\n",
    "    def __init__(self,data,_children=(), _op=''):\n",
    "        self.data = data\n",
    "        self.grad = 0.0\n",
    "        self._backward = lambda:None\n",
    "        self._prev = set(_children)\n",
    "        self._op = _op\n",
    "        \n",
    "    def __repr__(self):\n",
    "        return f\"Element(data={self.data}, grad={self.grad})\"\n",
    "    \n",
    "    def __add__(self,other):\n",
    "        x = Element(self.data*other.data, (self,other), '+')\n",
    "        def bw():\n",
    "            self.grad += x.grad\n",
    "            other.grad += x.grad\n",
    "        x._backward = bw\n",
    "        return x\n",
    "    \n",
    "    def __mul__(self,other):\n",
    "        x = Element(self.data*other.data, (self,other), '*')\n",
    "        def bw():\n",
    "            self.grad += other.data * x.grad\n",
    "            other.grad += self.data * x.grad\n",
    "        x._backward = bw\n",
    "        return x\n",
    "    \n",
    "    def relu(self):\n",
    "        x = Element(max(0, self.data), (self,), 'relu')\n",
    "        def bw():\n",
    "            self.grad += (x.data>0) * x.grad\n",
    "        x._backward = bw\n",
    "        return x\n",
    "    \n",
    "    def backward(self):\n",
    "        seen = set()\n",
    "        topo: list[Element] = []\n",
    "        def build(e: Element):\n",
    "            if e in seen:\n",
    "                return\n",
    "            \n",
    "            seen.add(e)\n",
    "            for ch in e._prev:\n",
    "                build(ch)\n",
    "            topo.append(e)\n",
    "            \n",
    "        build(self)\n",
    "        self.grad = 1.0\n",
    "        for e in reversed(topo):\n",
    "            e._backward()"
   ]
  }
 ],
 "metadata": {
  "kernelspec": {
   "display_name": "Python 3",
   "language": "python",
   "name": "python3"
  },
  "language_info": {
   "codemirror_mode": {
    "name": "ipython",
    "version": 3
   },
   "file_extension": ".py",
   "mimetype": "text/x-python",
   "name": "python",
   "nbconvert_exporter": "python",
   "pygments_lexer": "ipython3",
   "version": "3.11.13"
  }
 },
 "nbformat": 4,
 "nbformat_minor": 5
}
