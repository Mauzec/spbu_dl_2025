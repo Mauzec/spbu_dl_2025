{
 "cells": [
  {
   "cell_type": "markdown",
   "id": "eb07947b",
   "metadata": {},
   "source": [
    "# Введение в Pytorch\n"
   ]
  },
  {
   "cell_type": "markdown",
   "id": "f7ae15d0",
   "metadata": {},
   "source": [
    "В этом курсе мы по большей части будем пользоваться pytorch.\n",
    "Этот фреймворк во многом похож на numpy, главное его отличие в том, что он может считать градиенты с помощью своего autograd модуля. Еще одно отличие - он поддерживает cuda (и другие бэкенды) для повышения производительности.\n",
    "\n",
    "План ноутбука:\n",
    "1) основные операции\n",
    "2) тензоры\n",
    "3) градиенты\n",
    "2) пайплайн обучения"
   ]
  },
  {
   "cell_type": "markdown",
   "id": "084668ab",
   "metadata": {
    "collapsed": false,
    "jupyter": {
     "outputs_hidden": false
    }
   },
   "source": [
    "# Основные операции"
   ]
  },
  {
   "cell_type": "code",
   "execution_count": 1,
   "id": "e6fd4914",
   "metadata": {
    "collapsed": false,
    "jupyter": {
     "outputs_hidden": false
    }
   },
   "outputs": [],
   "source": [
    "import numpy as np\n",
    "import torch\n",
    "from matplotlib import pyplot as plt"
   ]
  },
  {
   "cell_type": "code",
   "execution_count": 2,
   "id": "712afa61",
   "metadata": {
    "collapsed": false,
    "jupyter": {
     "outputs_hidden": false
    }
   },
   "outputs": [
    {
     "data": {
      "text/plain": [
       "array([[0.66581585, 0.24447179, 0.41922288],\n",
       "       [0.40306858, 0.24683246, 0.78694365],\n",
       "       [0.44010974, 0.87146219, 0.96014022],\n",
       "       [0.08235467, 0.25487499, 0.27391318],\n",
       "       [0.05717186, 0.43376164, 0.71344754]])"
      ]
     },
     "execution_count": 2,
     "metadata": {},
     "output_type": "execute_result"
    }
   ],
   "source": [
    "a = np.random.rand(5, 3)\n",
    "a"
   ]
  },
  {
   "cell_type": "code",
   "execution_count": 3,
   "id": "86c1c846",
   "metadata": {
    "collapsed": false,
    "jupyter": {
     "outputs_hidden": false
    }
   },
   "outputs": [
    {
     "data": {
      "text/plain": [
       "array([[5.66581585, 5.24447179, 5.41922288],\n",
       "       [5.40306858, 5.24683246, 5.78694365],\n",
       "       [5.44010974, 5.87146219, 5.96014022],\n",
       "       [5.08235467, 5.25487499, 5.27391318],\n",
       "       [5.05717186, 5.43376164, 5.71344754]])"
      ]
     },
     "execution_count": 3,
     "metadata": {},
     "output_type": "execute_result"
    }
   ],
   "source": [
    "a + 5"
   ]
  },
  {
   "cell_type": "code",
   "execution_count": 4,
   "id": "9d3787be",
   "metadata": {
    "collapsed": false,
    "jupyter": {
     "outputs_hidden": false
    }
   },
   "outputs": [
    {
     "data": {
      "text/plain": [
       "array([[0.44331075, 0.05976645, 0.17574782],\n",
       "       [0.16246428, 0.06092626, 0.61928031],\n",
       "       [0.19369659, 0.75944635, 0.92186925],\n",
       "       [0.00678229, 0.06496126, 0.07502843],\n",
       "       [0.00326862, 0.18814916, 0.50900739]])"
      ]
     },
     "execution_count": 4,
     "metadata": {},
     "output_type": "execute_result"
    }
   ],
   "source": [
    "a ** 2"
   ]
  },
  {
   "cell_type": "code",
   "execution_count": 5,
   "id": "ecbccb22",
   "metadata": {
    "collapsed": false,
    "jupyter": {
     "outputs_hidden": false
    }
   },
   "outputs": [
    {
     "data": {
      "text/plain": [
       "(5, 3)"
      ]
     },
     "execution_count": 5,
     "metadata": {},
     "output_type": "execute_result"
    }
   ],
   "source": [
    "a.shape"
   ]
  },
  {
   "cell_type": "code",
   "execution_count": 6,
   "id": "26d57e3f",
   "metadata": {
    "collapsed": false,
    "jupyter": {
     "outputs_hidden": false
    }
   },
   "outputs": [
    {
     "data": {
      "text/plain": [
       "array([0.66581585, 0.24447179, 0.41922288, 0.40306858, 0.24683246,\n",
       "       0.78694365, 0.44010974, 0.87146219, 0.96014022, 0.08235467,\n",
       "       0.25487499, 0.27391318, 0.05717186, 0.43376164, 0.71344754])"
      ]
     },
     "execution_count": 6,
     "metadata": {},
     "output_type": "execute_result"
    }
   ],
   "source": [
    "a.flatten()"
   ]
  },
  {
   "cell_type": "code",
   "execution_count": 7,
   "id": "2c4c29e3",
   "metadata": {
    "collapsed": false,
    "jupyter": {
     "outputs_hidden": false
    }
   },
   "outputs": [
    {
     "data": {
      "text/plain": [
       "array([[0.66581585],\n",
       "       [0.24447179],\n",
       "       [0.41922288],\n",
       "       [0.40306858],\n",
       "       [0.24683246],\n",
       "       [0.78694365],\n",
       "       [0.44010974],\n",
       "       [0.87146219],\n",
       "       [0.96014022],\n",
       "       [0.08235467],\n",
       "       [0.25487499],\n",
       "       [0.27391318],\n",
       "       [0.05717186],\n",
       "       [0.43376164],\n",
       "       [0.71344754]])"
      ]
     },
     "execution_count": 7,
     "metadata": {},
     "output_type": "execute_result"
    }
   ],
   "source": [
    "a.reshape(-1, 1)"
   ]
  },
  {
   "cell_type": "code",
   "execution_count": 8,
   "id": "f261457a",
   "metadata": {
    "collapsed": false,
    "jupyter": {
     "outputs_hidden": false
    }
   },
   "outputs": [],
   "source": [
    "b = np.random.rand(7, 5)"
   ]
  },
  {
   "cell_type": "code",
   "execution_count": 9,
   "id": "54f94497",
   "metadata": {
    "collapsed": false,
    "jupyter": {
     "outputs_hidden": false
    }
   },
   "outputs": [
    {
     "data": {
      "text/plain": [
       "array([[0.9647424 , 0.71730486, 0.70884452, 0.8194889 , 0.76266003,\n",
       "        0.62265341, 0.62491893],\n",
       "       [1.16105603, 0.78698818, 1.09580369, 0.95415894, 1.02900219,\n",
       "        0.65325179, 0.92256878],\n",
       "       [1.76607235, 1.4285401 , 1.63546403, 1.17747093, 1.57962205,\n",
       "        1.0261709 , 1.21048157]])"
      ]
     },
     "execution_count": 9,
     "metadata": {},
     "output_type": "execute_result"
    }
   ],
   "source": [
    "a.T @ b.T\n"
   ]
  },
  {
   "cell_type": "markdown",
   "id": "af48d9d0",
   "metadata": {
    "collapsed": false,
    "jupyter": {
     "outputs_hidden": false
    }
   },
   "source": [
    "Задача 1: напишите функцию, которая принимает на вход вектор размера n и возвращает значения функции $2log(x^2) - 1.5 sqrt(x) + x^{1/2}$"
   ]
  },
  {
   "cell_type": "code",
   "execution_count": 10,
   "id": "c8445b4f",
   "metadata": {
    "collapsed": false,
    "jupyter": {
     "outputs_hidden": false
    }
   },
   "outputs": [],
   "source": [
    "# your code"
   ]
  },
  {
   "cell_type": "markdown",
   "id": "a9f05e1e",
   "metadata": {
    "collapsed": false,
    "jupyter": {
     "outputs_hidden": false
    }
   },
   "source": [
    "Задача 2: Посчитайте сумму значений функции из 1 задачи для натуральных чисел с 1 до 300"
   ]
  },
  {
   "cell_type": "code",
   "execution_count": 11,
   "id": "98fe9b89",
   "metadata": {
    "collapsed": false,
    "jupyter": {
     "outputs_hidden": false
    }
   },
   "outputs": [],
   "source": [
    "# your code"
   ]
  },
  {
   "cell_type": "markdown",
   "id": "2acd5712",
   "metadata": {
    "collapsed": false,
    "jupyter": {
     "outputs_hidden": false
    }
   },
   "source": [
    "В общем  ицелом, синтаксис в torch очень похож на numpy, однако с некоторыми отличиями"
   ]
  },
  {
   "cell_type": "code",
   "execution_count": 12,
   "id": "5502c5d0",
   "metadata": {
    "collapsed": false,
    "jupyter": {
     "outputs_hidden": false
    }
   },
   "outputs": [],
   "source": [
    "a = torch.rand(5,3)"
   ]
  },
  {
   "cell_type": "code",
   "execution_count": 13,
   "id": "a962ae11",
   "metadata": {
    "collapsed": false,
    "jupyter": {
     "outputs_hidden": false
    }
   },
   "outputs": [
    {
     "data": {
      "text/plain": [
       "tensor([[0.4571, 0.0064, 0.1130],\n",
       "        [0.6698, 0.0872, 0.2130],\n",
       "        [0.9956, 0.8780, 0.8935],\n",
       "        [0.3217, 0.4952, 0.0524],\n",
       "        [0.0617, 0.2953, 0.2652]])"
      ]
     },
     "execution_count": 13,
     "metadata": {},
     "output_type": "execute_result"
    }
   ],
   "source": [
    "a**2"
   ]
  },
  {
   "cell_type": "code",
   "execution_count": 14,
   "id": "561f5b02",
   "metadata": {
    "collapsed": false,
    "jupyter": {
     "outputs_hidden": false
    }
   },
   "outputs": [
    {
     "data": {
      "text/plain": [
       "torch.Size([5, 3])"
      ]
     },
     "execution_count": 14,
     "metadata": {},
     "output_type": "execute_result"
    }
   ],
   "source": [
    "a.size()"
   ]
  },
  {
   "cell_type": "code",
   "execution_count": 15,
   "id": "53fcd4dc",
   "metadata": {
    "collapsed": false,
    "jupyter": {
     "outputs_hidden": false
    }
   },
   "outputs": [
    {
     "data": {
      "text/plain": [
       "tensor([0.6761, 0.0802, 0.3362, 0.8184, 0.2953, 0.4615, 0.9978, 0.9370, 0.9452,\n",
       "        0.5672, 0.7037, 0.2289, 0.2484, 0.5434, 0.5150])"
      ]
     },
     "execution_count": 15,
     "metadata": {},
     "output_type": "execute_result"
    }
   ],
   "source": [
    "a.flatten()"
   ]
  },
  {
   "cell_type": "markdown",
   "id": "de3c3bac-239c-4d7d-a819-c7f5fdef0aeb",
   "metadata": {},
   "source": [
    "Есть разница между тем, чтобы получить представление тензора или его копию. Самый явный способ получить представление - оператор view. "
   ]
  },
  {
   "cell_type": "code",
   "execution_count": 16,
   "id": "a6a0b3eb",
   "metadata": {},
   "outputs": [
    {
     "data": {
      "text/plain": [
       "array([[0.49766414, 0.69381319, 0.59816037, 0.91797332, 0.26026504],\n",
       "       [0.25742168, 0.88072164, 0.33087313, 0.33883405, 0.30422562],\n",
       "       [0.44171261, 0.26792721, 0.55558109, 0.09369843, 0.95359973],\n",
       "       [0.69051004, 0.02305035, 0.65638517, 0.70128868, 0.06663416],\n",
       "       [0.27438735, 0.63944638, 0.57104353, 0.62581508, 0.33875436],\n",
       "       [0.42634056, 0.39518367, 0.30533751, 0.42422842, 0.17812567],\n",
       "       [0.26887622, 0.21859257, 0.71779393, 0.37951268, 0.18586667]])"
      ]
     },
     "execution_count": 16,
     "metadata": {},
     "output_type": "execute_result"
    }
   ],
   "source": [
    "b"
   ]
  },
  {
   "cell_type": "code",
   "execution_count": 17,
   "id": "d906a8ee",
   "metadata": {
    "collapsed": false,
    "jupyter": {
     "outputs_hidden": false
    }
   },
   "outputs": [],
   "source": [
    "b = a.view(-1,1)"
   ]
  },
  {
   "cell_type": "code",
   "execution_count": 18,
   "id": "14fcb637",
   "metadata": {},
   "outputs": [
    {
     "data": {
      "text/plain": [
       "tensor([[0.6761],\n",
       "        [0.0802],\n",
       "        [0.3362],\n",
       "        [0.8184],\n",
       "        [0.2953],\n",
       "        [0.4615],\n",
       "        [0.9978],\n",
       "        [0.9370],\n",
       "        [0.9452],\n",
       "        [0.5672],\n",
       "        [0.7037],\n",
       "        [0.2289],\n",
       "        [0.2484],\n",
       "        [0.5434],\n",
       "        [0.5150]])"
      ]
     },
     "execution_count": 18,
     "metadata": {},
     "output_type": "execute_result"
    }
   ],
   "source": [
    "b"
   ]
  },
  {
   "cell_type": "code",
   "execution_count": 19,
   "id": "ae8718ee",
   "metadata": {},
   "outputs": [
    {
     "data": {
      "text/plain": [
       "tensor([[0.6761, 0.0802, 0.3362],\n",
       "        [0.8184, 0.2953, 0.4615],\n",
       "        [0.9978, 0.9370, 0.9452],\n",
       "        [0.5672, 0.7037, 0.2289],\n",
       "        [0.2484, 0.5434, 0.5150]])"
      ]
     },
     "execution_count": 19,
     "metadata": {},
     "output_type": "execute_result"
    }
   ],
   "source": [
    "a"
   ]
  },
  {
   "cell_type": "code",
   "execution_count": 20,
   "id": "2ba7cbba-b62c-46e8-a170-127e347b134f",
   "metadata": {},
   "outputs": [
    {
     "data": {
      "text/plain": [
       "tensor([[0., 0., 0.],\n",
       "        [0., 0., 0.],\n",
       "        [0., 0., 0.],\n",
       "        [0., 0., 0.],\n",
       "        [0., 0., 0.]])"
      ]
     },
     "execution_count": 20,
     "metadata": {},
     "output_type": "execute_result"
    }
   ],
   "source": [
    "a.zero_()"
   ]
  },
  {
   "cell_type": "code",
   "execution_count": 21,
   "id": "b2bd1bc7-0da5-4d20-983b-3a539fcecb26",
   "metadata": {},
   "outputs": [
    {
     "data": {
      "text/plain": [
       "tensor([[0.],\n",
       "        [0.],\n",
       "        [0.],\n",
       "        [0.],\n",
       "        [0.],\n",
       "        [0.],\n",
       "        [0.],\n",
       "        [0.],\n",
       "        [0.],\n",
       "        [0.],\n",
       "        [0.],\n",
       "        [0.],\n",
       "        [0.],\n",
       "        [0.],\n",
       "        [0.]])"
      ]
     },
     "execution_count": 21,
     "metadata": {},
     "output_type": "execute_result"
    }
   ],
   "source": [
    "b"
   ]
  },
  {
   "cell_type": "code",
   "execution_count": 22,
   "id": "79cd5462-30c5-4f14-8f80-0d0f7965fd83",
   "metadata": {},
   "outputs": [],
   "source": [
    "a = torch.rand(5,3)"
   ]
  },
  {
   "cell_type": "code",
   "execution_count": 23,
   "id": "a667739d-e598-4c6d-8438-ea8e7723a18b",
   "metadata": {},
   "outputs": [
    {
     "data": {
      "text/plain": [
       "tensor([[0.],\n",
       "        [0.],\n",
       "        [0.],\n",
       "        [0.],\n",
       "        [0.],\n",
       "        [0.],\n",
       "        [0.],\n",
       "        [0.],\n",
       "        [0.],\n",
       "        [0.],\n",
       "        [0.],\n",
       "        [0.],\n",
       "        [0.],\n",
       "        [0.],\n",
       "        [0.]])"
      ]
     },
     "execution_count": 23,
     "metadata": {},
     "output_type": "execute_result"
    }
   ],
   "source": [
    "b"
   ]
  },
  {
   "cell_type": "code",
   "execution_count": 24,
   "id": "7300119e",
   "metadata": {
    "collapsed": false,
    "jupyter": {
     "outputs_hidden": false
    }
   },
   "outputs": [
    {
     "name": "stderr",
     "output_type": "stream",
     "text": [
      "/opt/homebrew/lib/python3.11/site-packages/torch/_tensor.py:893: UserWarning: non-inplace resize is deprecated\n",
      "  warnings.warn(\"non-inplace resize is deprecated\")\n"
     ]
    }
   ],
   "source": [
    "a = a.resize(5, 3)"
   ]
  },
  {
   "cell_type": "code",
   "execution_count": 25,
   "id": "e8e4b893",
   "metadata": {
    "collapsed": false,
    "jupyter": {
     "outputs_hidden": false
    }
   },
   "outputs": [
    {
     "data": {
      "text/plain": [
       "tensor([[1061290053, 1049887944, 1057927756],\n",
       "        [1031491824, 1048660126, 1060402593],\n",
       "        [1026324304, 1059468235, 1061270103],\n",
       "        [1023416512, 1023046592, 1059016911],\n",
       "        [1044110104, 1056351228, 1052192406]], dtype=torch.int32)"
      ]
     },
     "execution_count": 25,
     "metadata": {},
     "output_type": "execute_result"
    }
   ],
   "source": [
    "a.view(torch.int)"
   ]
  },
  {
   "cell_type": "code",
   "execution_count": 26,
   "id": "e19db052-6925-4908-bd7f-71c52f8d0e0b",
   "metadata": {},
   "outputs": [
    {
     "data": {
      "text/plain": [
       "tensor([[0.7578, 0.2891, 0.5574],\n",
       "        [0.0614, 0.2525, 0.7049],\n",
       "        [0.0421, 0.6492, 0.7566],\n",
       "        [0.0313, 0.0306, 0.6223],\n",
       "        [0.1835, 0.4817, 0.3578]])"
      ]
     },
     "execution_count": 26,
     "metadata": {},
     "output_type": "execute_result"
    }
   ],
   "source": [
    "a"
   ]
  },
  {
   "cell_type": "code",
   "execution_count": 27,
   "id": "fbfd8e6c-5fb5-438b-8272-d84b59ccbbb5",
   "metadata": {},
   "outputs": [],
   "source": [
    "b = a.view(3,5)"
   ]
  },
  {
   "cell_type": "markdown",
   "id": "6d96eea3-6de8-4434-a831-aaa55625778f",
   "metadata": {},
   "source": [
    "Тензор устроен чуть сложнее, чем массив numpy. На самом деле он хранит не только данные, но и другую полезную информацию. Например, каждый тензор находится на своем девайсе. \n",
    "Вопрос: Если бы тензор находился не на cpu, то перенос его с gpu на cpu создал бы копию?"
   ]
  },
  {
   "cell_type": "code",
   "execution_count": 28,
   "id": "05ac1e82-9c72-4b74-b5fc-52992d5b94d5",
   "metadata": {},
   "outputs": [
    {
     "data": {
      "text/plain": [
       "device(type='cpu')"
      ]
     },
     "execution_count": 28,
     "metadata": {},
     "output_type": "execute_result"
    }
   ],
   "source": [
    "b.device"
   ]
  },
  {
   "cell_type": "code",
   "execution_count": 29,
   "id": "5fa3f487",
   "metadata": {},
   "outputs": [
    {
     "data": {
      "text/plain": [
       "tensor([[0.7578, 0.2891, 0.5574],\n",
       "        [0.0614, 0.2525, 0.7049],\n",
       "        [0.0421, 0.6492, 0.7566],\n",
       "        [0.0313, 0.0306, 0.6223],\n",
       "        [0.1835, 0.4817, 0.3578]])"
      ]
     },
     "execution_count": 29,
     "metadata": {},
     "output_type": "execute_result"
    }
   ],
   "source": [
    "a"
   ]
  },
  {
   "cell_type": "code",
   "execution_count": 30,
   "id": "6d412240",
   "metadata": {
    "collapsed": false,
    "jupyter": {
     "outputs_hidden": false
    }
   },
   "outputs": [
    {
     "data": {
      "text/plain": [
       "tensor([[[0.7578],\n",
       "         [0.2891],\n",
       "         [0.5574]],\n",
       "\n",
       "        [[0.0614],\n",
       "         [0.2525],\n",
       "         [0.7049]],\n",
       "\n",
       "        [[0.0421],\n",
       "         [0.6492],\n",
       "         [0.7566]],\n",
       "\n",
       "        [[0.0313],\n",
       "         [0.0306],\n",
       "         [0.6223]],\n",
       "\n",
       "        [[0.1835],\n",
       "         [0.4817],\n",
       "         [0.3578]]])"
      ]
     },
     "execution_count": 30,
     "metadata": {},
     "output_type": "execute_result"
    }
   ],
   "source": [
    "a.unsqueeze(2)"
   ]
  },
  {
   "cell_type": "code",
   "execution_count": 31,
   "id": "4b8fc39b",
   "metadata": {
    "collapsed": false,
    "jupyter": {
     "outputs_hidden": false
    }
   },
   "outputs": [],
   "source": [
    "b = torch.rand(7,5)"
   ]
  },
  {
   "cell_type": "markdown",
   "id": "16431f6f-8a3a-4047-90e2-6103145a804a",
   "metadata": {},
   "source": [
    "К тензорам применимы различные операции, как поэлементные, так и матричные."
   ]
  },
  {
   "cell_type": "code",
   "execution_count": 32,
   "id": "3510b230",
   "metadata": {
    "collapsed": false,
    "jupyter": {
     "outputs_hidden": false
    }
   },
   "outputs": [
    {
     "data": {
      "text/plain": [
       "tensor([[0.7259, 0.1147, 0.4177, 0.8262, 0.2538, 0.2425, 0.9566],\n",
       "        [0.8661, 0.5108, 0.6049, 1.2270, 0.5625, 0.5132, 1.3555],\n",
       "        [1.6124, 0.5771, 1.4364, 2.0917, 1.2367, 1.0798, 2.4566]])"
      ]
     },
     "execution_count": 32,
     "metadata": {},
     "output_type": "execute_result"
    }
   ],
   "source": [
    "a.T @ b.T"
   ]
  },
  {
   "cell_type": "code",
   "execution_count": 33,
   "id": "e8bb40db",
   "metadata": {
    "collapsed": false,
    "jupyter": {
     "outputs_hidden": false
    }
   },
   "outputs": [
    {
     "data": {
      "text/plain": [
       "tensor([[0.7259, 0.8661, 1.6124],\n",
       "        [0.1147, 0.5108, 0.5771],\n",
       "        [0.4177, 0.6049, 1.4364],\n",
       "        [0.8262, 1.2270, 2.0917],\n",
       "        [0.2538, 0.5625, 1.2367],\n",
       "        [0.2425, 0.5132, 1.0798],\n",
       "        [0.9566, 1.3555, 2.4566]])"
      ]
     },
     "execution_count": 33,
     "metadata": {},
     "output_type": "execute_result"
    }
   ],
   "source": [
    "torch.matmul(b, a)"
   ]
  },
  {
   "cell_type": "code",
   "execution_count": 34,
   "id": "a7db3926",
   "metadata": {
    "collapsed": false,
    "jupyter": {
     "outputs_hidden": false
    }
   },
   "outputs": [],
   "source": [
    "b = torch.rand(3,1,4,1,5)"
   ]
  },
  {
   "cell_type": "code",
   "execution_count": 35,
   "id": "15a29a4a",
   "metadata": {
    "collapsed": false,
    "jupyter": {
     "outputs_hidden": false
    }
   },
   "outputs": [
    {
     "data": {
      "text/plain": [
       "torch.Size([3, 4, 5])"
      ]
     },
     "execution_count": 35,
     "metadata": {},
     "output_type": "execute_result"
    }
   ],
   "source": [
    "b.squeeze().shape"
   ]
  },
  {
   "cell_type": "code",
   "execution_count": 36,
   "id": "d9590e17",
   "metadata": {
    "collapsed": false,
    "jupyter": {
     "outputs_hidden": false
    }
   },
   "outputs": [
    {
     "data": {
      "text/plain": [
       "torch.Size([3, 4, 1, 5])"
      ]
     },
     "execution_count": 36,
     "metadata": {},
     "output_type": "execute_result"
    }
   ],
   "source": [
    "b.squeeze(1).shape"
   ]
  },
  {
   "cell_type": "markdown",
   "id": "5096bcff",
   "metadata": {
    "collapsed": false,
    "jupyter": {
     "outputs_hidden": false
    }
   },
   "source": [
    "Задача 3. напишите функцию на torch, которая принимает на вход вектор размера n и возвращает значения функции $2log(x^2) - 1.5 sqrt(x) + x^{1/2}$"
   ]
  },
  {
   "cell_type": "code",
   "execution_count": null,
   "id": "d078801f",
   "metadata": {
    "collapsed": false,
    "jupyter": {
     "outputs_hidden": false
    }
   },
   "outputs": [],
   "source": []
  },
  {
   "cell_type": "markdown",
   "id": "24291a43",
   "metadata": {
    "collapsed": false,
    "jupyter": {
     "outputs_hidden": false
    }
   },
   "source": [
    "Задача 4: Посчитайте сумму значений функции из 3 задачи для натуральных чисел с 1 до 300"
   ]
  },
  {
   "cell_type": "code",
   "execution_count": null,
   "id": "9d0b25bd",
   "metadata": {
    "collapsed": false,
    "jupyter": {
     "outputs_hidden": false
    }
   },
   "outputs": [],
   "source": []
  },
  {
   "cell_type": "markdown",
   "id": "d2734e6d",
   "metadata": {
    "collapsed": false,
    "jupyter": {
     "outputs_hidden": false
    }
   },
   "source": [
    " Другие варианты создать тензор"
   ]
  },
  {
   "cell_type": "code",
   "execution_count": 37,
   "id": "9553916f",
   "metadata": {
    "collapsed": false,
    "jupyter": {
     "outputs_hidden": false
    }
   },
   "outputs": [],
   "source": [
    "a = torch.empty(5,2)\n",
    "b = torch.zeros(6,1, dtype=torch.bool)\n",
    "c = torch.ones_like(b) "
   ]
  },
  {
   "cell_type": "markdown",
   "id": "9c344ef3",
   "metadata": {
    "collapsed": false,
    "jupyter": {
     "outputs_hidden": false
    }
   },
   "source": [
    "Тензор можно создать и из другого объекта. Как думаете, какой тип будет у результирующего тензора?"
   ]
  },
  {
   "cell_type": "code",
   "execution_count": 38,
   "id": "1c60d24e",
   "metadata": {
    "collapsed": false,
    "jupyter": {
     "outputs_hidden": false
    }
   },
   "outputs": [],
   "source": [
    "d = torch.tensor([5,3.4])"
   ]
  },
  {
   "cell_type": "code",
   "execution_count": 39,
   "id": "238ed6b5",
   "metadata": {
    "collapsed": false,
    "jupyter": {
     "outputs_hidden": false
    }
   },
   "outputs": [
    {
     "data": {
      "text/plain": [
       "torch.float32"
      ]
     },
     "execution_count": 39,
     "metadata": {},
     "output_type": "execute_result"
    }
   ],
   "source": [
    "d.dtype"
   ]
  },
  {
   "cell_type": "markdown",
   "id": "3f7cf086",
   "metadata": {
    "collapsed": false,
    "jupyter": {
     "outputs_hidden": false
    }
   },
   "source": [
    "Torch легко переводится в numpy и наоборот. Из-за разницы типов результат не будет идентичным, но он будет достаточно близким к исходному."
   ]
  },
  {
   "cell_type": "code",
   "execution_count": 40,
   "id": "e05c755e",
   "metadata": {
    "collapsed": false,
    "jupyter": {
     "outputs_hidden": false
    }
   },
   "outputs": [
    {
     "data": {
      "text/plain": [
       "True"
      ]
     },
     "execution_count": 40,
     "metadata": {},
     "output_type": "execute_result"
    }
   ],
   "source": [
    "a = np.ones((3, 5))\n",
    "x = torch.ones((3, 5))\n",
    "np.allclose(x.numpy(), a)"
   ]
  },
  {
   "cell_type": "markdown",
   "id": "0032a255-6e3c-4ca3-987a-d43ae99d0d94",
   "metadata": {},
   "source": [
    "Впрочем, если тензор находится на gpu, для начала его необходимо вернуть на cpu. Кроме того, не все типы данных, которые поддерживает torch, например, bf16, поддерживаются numpy, и тогда сначала необходимо привести тензор к нужному типу."
   ]
  },
  {
   "cell_type": "markdown",
   "id": "40ff3953",
   "metadata": {
    "collapsed": false,
    "jupyter": {
     "outputs_hidden": false
    }
   },
   "source": [
    "# Градиенты\n",
    "Рассмотрим достаточно простой датасет"
   ]
  },
  {
   "cell_type": "code",
   "execution_count": 41,
   "id": "281f79c8",
   "metadata": {
    "collapsed": false,
    "jupyter": {
     "outputs_hidden": false
    }
   },
   "outputs": [],
   "source": [
    "x1 = torch.arange(-15, 15, 0.1)\n",
    "x2 = torch.arange(-15, 15, 0.1) / 5\n",
    "x = torch.stack([x1, x2], dim=1)\n",
    "y = x[:,0] * 2. + 0.2 * x[:, 1]**2 - 3 + torch.normal(0., 0.2, (1, 300))"
   ]
  },
  {
   "cell_type": "code",
   "execution_count": 42,
   "id": "bebd5357",
   "metadata": {
    "collapsed": false,
    "jupyter": {
     "outputs_hidden": false
    }
   },
   "outputs": [
    {
     "data": {
      "text/plain": [
       "<matplotlib.collections.PathCollection at 0x104106990>"
      ]
     },
     "execution_count": 42,
     "metadata": {},
     "output_type": "execute_result"
    },
    {
     "data": {
      "image/png": "[encoded data removed]",
      "text/plain": [
       "<Figure size 640x480 with 1 Axes>"
      ]
     },
     "metadata": {},
     "output_type": "display_data"
    }
   ],
   "source": [
    "plt.scatter(x[:, 0], y)"
   ]
  },
  {
   "cell_type": "markdown",
   "id": "67a8d294",
   "metadata": {
    "collapsed": false,
    "jupyter": {
     "outputs_hidden": false
    }
   },
   "source": [
    "Доп.задание. Изобразите поверхность на 3d-графике"
   ]
  },
  {
   "cell_type": "markdown",
   "id": "99de1c0e",
   "metadata": {
    "collapsed": false,
    "jupyter": {
     "outputs_hidden": false
    }
   },
   "source": [
    "В PyTorch при создании тензора можно указать, нужно ли считать по нему градиент или нет, с помощью параметра requires_grad.\n",
    "Если requires_grad=False, то это просто массив с числами, посчитать dx/dy не выйдет.\n",
    "Если же requires_grad=True, то фреймворк будит учитывать этот тензор при построении графа вычислений производной.\n",
    "Например, станет возможно посчитать d(sin(log(x**2) - 3x))/dx.\n",
    "\n",
    "Как происходит отслеживание градиента? Ответ достаточно простой: у каждого тензора на ссамом деле есть параметр .grad, который и хранит градиенты. У тех тензоров, к которым градиент неприменим, grad=None.\n",
    "\n",
    "Что еще интереснее - у тех тензоров, через которые проходят вычисления, появляется параметр grad_fn. Например, у резултата a + b grad_fn будет AddBackward."
   ]
  },
  {
   "cell_type": "code",
   "execution_count": 43,
   "id": "7076a626",
   "metadata": {
    "collapsed": false,
    "jupyter": {
     "outputs_hidden": false
    }
   },
   "outputs": [],
   "source": [
    "a = torch.rand(5,2, requires_grad=True)\n",
    "b = torch.rand(2, 1, requires_grad=True)"
   ]
  },
  {
   "cell_type": "code",
   "execution_count": 44,
   "id": "0d972cc0",
   "metadata": {
    "collapsed": false,
    "jupyter": {
     "outputs_hidden": false
    }
   },
   "outputs": [
    {
     "data": {
      "text/plain": [
       "tensor(2.4127, grad_fn=<SumBackward0>)"
      ]
     },
     "execution_count": 44,
     "metadata": {},
     "output_type": "execute_result"
    }
   ],
   "source": [
    "mult_res = a @ b\n",
    "res = mult_res.sum()\n",
    "res"
   ]
  },
  {
   "cell_type": "code",
   "execution_count": 45,
   "id": "64380d6d-ffdd-4f32-883a-01de2b8f8739",
   "metadata": {},
   "outputs": [
    {
     "data": {
      "text/plain": [
       "tensor([[0.1866],\n",
       "        [0.6139],\n",
       "        [0.3212],\n",
       "        [0.5360],\n",
       "        [0.7550]], grad_fn=<MmBackward0>)"
      ]
     },
     "execution_count": 45,
     "metadata": {},
     "output_type": "execute_result"
    }
   ],
   "source": [
    "mult_res"
   ]
  },
  {
   "cell_type": "code",
   "execution_count": 46,
   "id": "65b87f1d",
   "metadata": {
    "collapsed": false,
    "jupyter": {
     "outputs_hidden": false
    }
   },
   "outputs": [
    {
     "name": "stdout",
     "output_type": "stream",
     "text": [
      "None\n"
     ]
    }
   ],
   "source": [
    "print(a.grad)"
   ]
  },
  {
   "cell_type": "markdown",
   "id": "0c5e6431",
   "metadata": {
    "collapsed": false,
    "jupyter": {
     "outputs_hidden": false
    }
   },
   "source": [
    "А как же получить значения градиентов? Тензоры что-то содержат, операции все известны. На самом деле еще при вычислении значения выражения уже известно, какие операции производятся, поэтому и производную можно посчитать. То, как конкретно это делается, вы точно узнаете отдельно."
   ]
  },
  {
   "cell_type": "code",
   "execution_count": 47,
   "id": "3bbb2cae",
   "metadata": {
    "collapsed": false,
    "jupyter": {
     "outputs_hidden": false
    }
   },
   "outputs": [],
   "source": [
    "res.backward()"
   ]
  },
  {
   "cell_type": "code",
   "execution_count": 48,
   "id": "b861f381",
   "metadata": {
    "collapsed": false,
    "jupyter": {
     "outputs_hidden": false
    }
   },
   "outputs": [
    {
     "data": {
      "text/plain": [
       "tensor([[2.7094],\n",
       "        [2.0096]])"
      ]
     },
     "execution_count": 48,
     "metadata": {},
     "output_type": "execute_result"
    }
   ],
   "source": [
    "b.grad.data"
   ]
  },
  {
   "cell_type": "code",
   "execution_count": 49,
   "id": "6835ed75-a26c-4a10-951b-445e875bb3e9",
   "metadata": {},
   "outputs": [
    {
     "name": "stderr",
     "output_type": "stream",
     "text": [
      "/var/folders/58/48pb_kg90fjcfmtvf1zy398r0000gn/T/ipykernel_9139/6217836.py:1: UserWarning: The .grad attribute of a Tensor that is not a leaf Tensor is being accessed. Its .grad attribute won't be populated during autograd.backward(). If you indeed want the .grad field to be populated for a non-leaf Tensor, use .retain_grad() on the non-leaf Tensor. If you access the non-leaf Tensor by mistake, make sure you access the leaf Tensor instead. See github.com/pytorch/pytorch/pull/30531 for more informations. (Triggered internally at /Users/runner/work/pytorch/pytorch/pytorch/build/aten/src/ATen/core/TensorBody.h:494.)\n",
      "  mult_res.grad\n"
     ]
    }
   ],
   "source": [
    "mult_res.grad"
   ]
  },
  {
   "cell_type": "markdown",
   "id": "7dde8d4d",
   "metadata": {
    "collapsed": false,
    "jupyter": {
     "outputs_hidden": false
    }
   },
   "source": [
    "Перейдем к нашим данным. Попробуем обучить простую линейную модель с помощью градиентного спуска."
   ]
  },
  {
   "cell_type": "code",
   "execution_count": 50,
   "id": "b8d6972a",
   "metadata": {
    "collapsed": false,
    "jupyter": {
     "outputs_hidden": false
    }
   },
   "outputs": [],
   "source": [
    "w = torch.rand(1, 2, requires_grad=True)\n",
    "b = torch.rand(1, requires_grad=True)\n",
    "y_pred = w @ x.T + b\n",
    "loss = torch.mean((y_pred - y) ** 2)\n",
    "loss.backward()"
   ]
  },
  {
   "cell_type": "code",
   "execution_count": 51,
   "id": "a99163ef",
   "metadata": {
    "collapsed": false,
    "jupyter": {
     "outputs_hidden": false
    }
   },
   "outputs": [
    {
     "data": {
      "text/plain": [
       "<matplotlib.collections.PathCollection at 0x13b05ca90>"
      ]
     },
     "execution_count": 51,
     "metadata": {},
     "output_type": "execute_result"
    },
    {
     "data": {
      "image/png": "[encoded data removed]",
      "text/plain": [
       "<Figure size 640x480 with 1 Axes>"
      ]
     },
     "metadata": {},
     "output_type": "display_data"
    }
   ],
   "source": [
    "plt.scatter(x[:, 0], y)\n",
    "plt.scatter(x[:, 0], y_pred.detach().numpy())"
   ]
  },
  {
   "cell_type": "markdown",
   "id": "7c34d8a2",
   "metadata": {
    "collapsed": false,
    "jupyter": {
     "outputs_hidden": false
    }
   },
   "source": [
    "Пока не слишком похоже на то, что мы хотим. Для того, чтобы изменения применились, нужно сделать шаг градиентного спуска."
   ]
  },
  {
   "cell_type": "markdown",
   "id": "1eaf62ea",
   "metadata": {
    "collapsed": false,
    "jupyter": {
     "outputs_hidden": false
    }
   },
   "source": [
    "**Задание**. Проведите 100 итераций градиентного спуска для данного набора.\n",
    "Для этого надо вспомнить, как выглядит этот алгоритм для линейной регрессии"
   ]
  },
  {
   "cell_type": "code",
   "execution_count": null,
   "id": "63c85dcd",
   "metadata": {
    "collapsed": false,
    "jupyter": {
     "outputs_hidden": false
    }
   },
   "outputs": [
    {
     "name": "stderr",
     "output_type": "stream",
     "text": [
      "/var/folders/58/48pb_kg90fjcfmtvf1zy398r0000gn/T/ipykernel_9139/875582285.py:7: UserWarning: The .grad attribute of a Tensor that is not a leaf Tensor is being accessed. Its .grad attribute won't be populated during autograd.backward(). If you indeed want the .grad field to be populated for a non-leaf Tensor, use .retain_grad() on the non-leaf Tensor. If you access the non-leaf Tensor by mistake, make sure you access the leaf Tensor instead. See github.com/pytorch/pytorch/pull/30531 for more informations. (Triggered internally at /Users/runner/work/pytorch/pytorch/pytorch/build/aten/src/ATen/core/TensorBody.h:494.)\n",
      "  if w.grad is not None:\n",
      "/var/folders/58/48pb_kg90fjcfmtvf1zy398r0000gn/T/ipykernel_9139/875582285.py:9: UserWarning: The .grad attribute of a Tensor that is not a leaf Tensor is being accessed. Its .grad attribute won't be populated during autograd.backward(). If you indeed want the .grad field to be populated for a non-leaf Tensor, use .retain_grad() on the non-leaf Tensor. If you access the non-leaf Tensor by mistake, make sure you access the leaf Tensor instead. See github.com/pytorch/pytorch/pull/30531 for more informations. (Triggered internally at /Users/runner/work/pytorch/pytorch/pytorch/build/aten/src/ATen/core/TensorBody.h:494.)\n",
      "  if b.grad is not None:\n",
      "/var/folders/58/48pb_kg90fjcfmtvf1zy398r0000gn/T/ipykernel_9139/875582285.py:13: UserWarning: The .grad attribute of a Tensor that is not a leaf Tensor is being accessed. Its .grad attribute won't be populated during autograd.backward(). If you indeed want the .grad field to be populated for a non-leaf Tensor, use .retain_grad() on the non-leaf Tensor. If you access the non-leaf Tensor by mistake, make sure you access the leaf Tensor instead. See github.com/pytorch/pytorch/pull/30531 for more informations. (Triggered internally at /Users/runner/work/pytorch/pytorch/pytorch/build/aten/src/ATen/core/TensorBody.h:494.)\n",
      "  if w.grad is not None:\n",
      "/var/folders/58/48pb_kg90fjcfmtvf1zy398r0000gn/T/ipykernel_9139/875582285.py:15: UserWarning: The .grad attribute of a Tensor that is not a leaf Tensor is being accessed. Its .grad attribute won't be populated during autograd.backward(). If you indeed want the .grad field to be populated for a non-leaf Tensor, use .retain_grad() on the non-leaf Tensor. If you access the non-leaf Tensor by mistake, make sure you access the leaf Tensor instead. See github.com/pytorch/pytorch/pull/30531 for more informations. (Triggered internally at /Users/runner/work/pytorch/pytorch/pytorch/build/aten/src/ATen/core/TensorBody.h:494.)\n",
      "  if b.grad is not None:\n"
     ]
    },
    {
     "data": {
      "text/plain": [
       "<matplotlib.collections.PathCollection at 0x13f618750>"
      ]
     },
     "execution_count": 58,
     "metadata": {},
     "output_type": "execute_result"
    },
    {
     "data": {
      "image/png": "[encoded data removed]",
      "text/plain": [
       "<Figure size 640x480 with 1 Axes>"
      ]
     },
     "metadata": {},
     "output_type": "display_data"
    }
   ],
   "source": [
    "for i in range(100):\n",
    "    y_pred = ...\n",
    "    loss = ...\n",
    "    loss.backward()\n",
    "    # your code: adjust w and b using gradient descent\n",
    "    # Every iteration you need to set gradients to zero (or you will get unexpected results).\n",
    "    # This is done by .grad.data.zero_()\n",
    "plt.scatter(x[:, 0], y)\n",
    "plt.scatter(x[:, 0], y_pred.detach().numpy())"
   ]
  },
  {
   "cell_type": "markdown",
   "id": "7302150d",
   "metadata": {},
   "source": [
    "# Пайплайн обучения\n",
    "\n",
    "Кроме собственно тензоров, функций потерь и градиентов, основные составляющие библиотеки как и всегда - датасеты и модели. При этом торч позволяет довольно свободно составлять и то, и другое из простейших блоков, лишь поддерживая необходимые интерфейсы.\n",
    "\n",
    "Импортируем torch.nn - тут находятся классы, реализующие слои, лоссы, функции ошибок и тд. \n",
    "Для примера я использую стандартный датасет для компьютерного зрения - MNIST - содержащий цифры от 0 до 9 в разном написании. Поэтому импортируются некоторые подмодули torchvision\n"
   ]
  },
  {
   "cell_type": "code",
   "execution_count": null,
   "id": "bf7c9b27",
   "metadata": {},
   "outputs": [],
   "source": [
    "import torch\n",
    "from torch import nn\n",
    "from torch.utils.data import DataLoader, Dataset\n",
    "from torchvision import datasets\n",
    "from torchvision.transforms import ToTensor\n",
    "from matplotlib import pyplot as plt"
   ]
  },
  {
   "cell_type": "code",
   "execution_count": null,
   "id": "45ad1ada",
   "metadata": {},
   "outputs": [],
   "source": [
    "import os\n",
    "import pandas as pd\n",
    "from torchvision.io import read_image\n"
   ]
  },
  {
   "cell_type": "markdown",
   "id": "54aebe5f",
   "metadata": {},
   "source": [
    "# Создание датасета"
   ]
  },
  {
   "cell_type": "markdown",
   "id": "71d937ef",
   "metadata": {},
   "source": [
    "Pytorch позволяет использовать открытые датасеты с хаба. Они все являются подклассами `torch.utils.data.Dataset` и имплементируют методы, специфичные для этого класса данных. Обычно они используются для прототипирования и бенчмаркинга и могут быть загружены по необходимости. Однако если для задачи необxодимо что-то кроме предполагаемой разработчиками функциональности, нужно либо отнаследовать один из них, либо напрямую `torch.utils.data.Dataset`.\n",
    "\n",
    "Давайте загрузим FashionMNIST (https://github.com/zalandoresearch/fashion-mnist) - один из таких простых бенчмарк-датасетов для компьютерного зрения. Каждый семпл - это черно-белое изображение размером 28х28 с каким-то предметом одежды и ассоциированным классом. Всего набор содержит 60000 + 10000 изображений и 10 классов.\n"
   ]
  },
  {
   "cell_type": "code",
   "execution_count": null,
   "id": "84744d19",
   "metadata": {},
   "outputs": [],
   "source": [
    "train_data = datasets.FashionMNIST(\n",
    "    root=\"data\",\n",
    "    train=True,\n",
    "    download=True,\n",
    "    transform=ToTensor(),\n",
    ")\n",
    "\n",
    "# Download test data from open datasets.\n",
    "test_data = datasets.FashionMNIST(\n",
    "    root=\"data\",\n",
    "    train=False,\n",
    "    download=True,\n",
    "    transform=ToTensor(),\n",
    ")"
   ]
  },
  {
   "cell_type": "code",
   "execution_count": null,
   "id": "cdfc853a",
   "metadata": {},
   "outputs": [],
   "source": [
    "labels_map = {\n",
    "    0: \"T-Shirt\",\n",
    "    1: \"Trouser\",\n",
    "    2: \"Pullover\",\n",
    "    3: \"Dress\",\n",
    "    4: \"Coat\",\n",
    "    5: \"Sandal\",\n",
    "    6: \"Shirt\",\n",
    "    7: \"Sneaker\",\n",
    "    8: \"Bag\",\n",
    "    9: \"Ankle Boot\",\n",
    "}"
   ]
  },
  {
   "cell_type": "code",
   "execution_count": null,
   "id": "dc9d3d8f",
   "metadata": {},
   "outputs": [],
   "source": [
    "def plot_samples(data, labels_map, cols=3, rows=3):\n",
    "    figure = plt.figure(figsize=(8, 8))\n",
    "    for i in range(1, cols * rows + 1):\n",
    "        sample_idx = torch.randint(len(data), size=(1,)).item()\n",
    "        img, label = data[sample_idx]\n",
    "        figure.add_subplot(rows, cols, i)\n",
    "        if type(label) == torch.Tensor:\n",
    "            plt.title(labels_map[label.item()])\n",
    "        else:\n",
    "            plt.title(labels_map[label])\n",
    "        plt.axis(\"off\")\n",
    "        plt.imshow(img.squeeze(), cmap=\"gray\")\n",
    "    plt.show()"
   ]
  },
  {
   "cell_type": "code",
   "execution_count": null,
   "id": "6f1c8745",
   "metadata": {},
   "outputs": [],
   "source": [
    "plot_samples(train_data, labels_map, cols=3, rows=3)"
   ]
  },
  {
   "cell_type": "markdown",
   "id": "9a33dc57",
   "metadata": {},
   "source": [
    "Каждый датасет в Pytorch должен наследоваться от класса Dataset и обязательно имплементировать методы `__init__, __len__, __getitem__`. В `__init__` обычно кроме прочего определяются трансформации, которые будут применяться к данным. Это может быть преобразование PIL.Image в тензоры, добавление шума, сдвиги и т.д. \n",
    "Pytorch предоставляет большое количество трансформаций, но наиболее популярная и удобная библиотека, реализующая трансформации для изображений - *albumentations*. \n",
    "\n",
    "`__len__` - должна возвращать размер датасета (например, чисо строк в файле с аннотациями)\n",
    "\n",
    "`__getitem__` - должен возвращать семпл данных, например, вектор признаков и y. Однако он может возвращать еще и дополнительную информацию, например, y может состоять из набора bboxoв и  сегментационных масок для детекции, класса изображения итп. Обычно возвращается tuple. В целом, возвращаться может любая структура, которую можно представить как набор тензоров, соответствующих одному семплу и входу модели.\n",
    "Внутри этого метода может происходить загрузка семпла, его трансформации и другие необходимые манипуляции. Очевидно, что он может возвращать не только изображение, но и любые другие данные, и временные ряды, и табличные данные, и облака точек, и другое. \n"
   ]
  },
  {
   "cell_type": "markdown",
   "id": "d59d78bb",
   "metadata": {},
   "source": [
    "Давайте реализуем такой датасет для FashionMNIST. Конечно, можно было бы спокойно использовать встроенный, но так не интересно )"
   ]
  },
  {
   "cell_type": "code",
   "execution_count": null,
   "id": "9022c5a5",
   "metadata": {},
   "outputs": [],
   "source": [
    "from torchvision.datasets.mnist import read_image_file, read_label_file"
   ]
  },
  {
   "cell_type": "code",
   "execution_count": null,
   "id": "5df545a3",
   "metadata": {},
   "outputs": [],
   "source": [
    "class FashionMNISTDataset(Dataset):\n",
    "    def __init__(self, file_dir, train=True, transform=None, target_transform=None):\n",
    "        self.transform = transform\n",
    "        self.target_transform = target_transform\n",
    "        self.train = train\n",
    "        image_file = f\"{'train' if self.train else 't10k'}-images-idx3-ubyte\"\n",
    "        self.data = read_image_file(os.path.join(file_dir, image_file))\n",
    "\n",
    "        label_file = f\"{'train' if self.train else 't10k'}-labels-idx1-ubyte\"\n",
    "        self.targets = read_label_file(os.path.join(file_dir, label_file))\n",
    "\n",
    "    def __len__(self):\n",
    "        return len(self.data)\n",
    "\n",
    "    def __getitem__(self, idx):\n",
    "        image = self.data[idx]\n",
    "        label = self.targets[idx]\n",
    "        \n",
    "        if self.transform:\n",
    "            image = self.transform(image)\n",
    "        if self.target_transform:\n",
    "            label = self.target_transform(label)\n",
    "        return image, label"
   ]
  },
  {
   "cell_type": "markdown",
   "id": "4dbfc3ef",
   "metadata": {
    "collapsed": false,
    "jupyter": {
     "outputs_hidden": false
    }
   },
   "source": [
    "Проинициализируйте ваш новый датасет так же, как и ранее встроенный."
   ]
  },
  {
   "cell_type": "code",
   "execution_count": null,
   "id": "3d648b9e",
   "metadata": {},
   "outputs": [],
   "source": [
    "train_data =  # your code\n",
    "test_data =  # your code"
   ]
  },
  {
   "cell_type": "code",
   "execution_count": null,
   "id": "9d8e5055",
   "metadata": {},
   "outputs": [],
   "source": [
    "plot_samples(train_data, labels_map, cols=3, rows=3)"
   ]
  },
  {
   "cell_type": "markdown",
   "id": "f7354c09",
   "metadata": {},
   "source": [
    "Датасет возвращает один семпл за раз, однако часто наши мощности позволяют обрабатывать больше данных. При работе с таблицами обыно модель получает на вход вообще весь набор сразу или достаточно большими порциями. Когда речь заходит о тензорах и наборах с сотнями тысяч и даже миллионами семплов, это невозможно. На помощь приходит батчевая обработка, когда из датасета берутся небольшие порции данных за раз (используя индекс). За соединение семплов во вход модели отвечает класс DataLoader. Каждую эпоху данные шаффлятся, чтобы уменьшить переобучение. "
   ]
  },
  {
   "cell_type": "code",
   "execution_count": null,
   "id": "6920b94f",
   "metadata": {},
   "outputs": [],
   "source": [
    "train_dataloader = DataLoader(train_data, batch_size=64, shuffle=True)\n",
    "test_dataloader = DataLoader(test_data, batch_size=64, shuffle=True)"
   ]
  },
  {
   "cell_type": "code",
   "execution_count": null,
   "id": "15214288",
   "metadata": {},
   "outputs": [],
   "source": [
    "train_features, train_labels = next(iter(train_dataloader))\n",
    "print(f\"Feature batch shape: {train_features.size()}\")\n",
    "print(f\"Labels batch shape: {train_labels.size()}\")\n",
    "img = train_features[0].squeeze().reshape(28,28)\n",
    "label = train_labels[0]\n",
    "plt.imshow(img, cmap=\"gray\")\n",
    "plt.show()\n",
    "print(f\"Label: {label}\")"
   ]
  },
  {
   "cell_type": "markdown",
   "id": "fcf84e10",
   "metadata": {},
   "source": [
    "Глубокое обучение чаще всего связывают с GPU, и не зря. Имея дело с тензорами и тензорными вычислениями, мы производим огромное количество элементарных операций. Каждое ядро CPU способно произвести только одно вычисление за такт. GPU был создан для обработки графики, где требуется также большое количество простых вычислений, и поэтому может ускорить обработку данных в тысячи раз. Это все должно быть хорошо Вам известно из других курсов)\n",
    "\n",
    "К сожалению, часто компьютер не поддерживает вычисления на GPU, например, у него просто нет дискретной видеокарты. Pytorch позволяет проводить все операции на CPU, так что его можно использовать где угодно.\n",
    "\n"
   ]
  },
  {
   "cell_type": "code",
   "execution_count": null,
   "id": "188d5e11",
   "metadata": {},
   "outputs": [],
   "source": [
    "device = \"cuda\" if torch.cuda.is_available() else \"cpu\"\n",
    "print(f\"Using {device} device\")\n"
   ]
  },
  {
   "cell_type": "markdown",
   "id": "1c77c6be",
   "metadata": {},
   "source": [
    "*Дополнительное задание: адаптируйте весь код для `accelerate`. Это очень удобная библиотека для адаптации PyTorch кода для любой распределенной конфигурации. Кроме того, она позволяет упростить работу, даже если нам нужно перенести вычисления на GPU или CPU, автоматизируя этот процесс (иначе нам нужно постоянно вызывать `.to(device)`)*\n",
    "*Для этого импортируйте нужный Accelerator из accelerate. Далее достаточно вызвать accelerator.prepare(elements)*"
   ]
  },
  {
   "cell_type": "markdown",
   "id": "c2f9aa77",
   "metadata": {},
   "source": [
    "Теперь создадим класс модели и интстанциируем её. В данном случае это простой перцептрон с тремя слоями. Однако модель может быть сколько угодно сложной. Главное, чтобы она наследовала класс `nn.Module`. Более того, можно написать любой слой собственноручно, также отнаследовав этот класс.\n",
    "Каждая модель должна имплементировать два метода - `__init__` и `forward(self, *args, **kwargs)`. В первом обычно задается ее структура и другие параметры. Модель  может даже содержать другие модели!\n",
    "\n",
    "`forward` получает на вход Х, но он может получать несколько разных входов, маски и тд. Обычно возвращаются либо выходы с последнего слоя (один или несколько). Но, например, стандартные модели детекции возвращают в режиме обучения значение лосса, а непосредственные предсказания только в режиме тестирования.\n",
    "\n",
    "Вызывая `model(data)`, на самом деле мы вызываем именно метод `forward`"
   ]
  },
  {
   "cell_type": "markdown",
   "id": "bc1e538f",
   "metadata": {},
   "source": [
    "Для того, чтобы понять, как устроен слой в Pytorch, создадим простой слой для превращения изображения в вектор.\n",
    "Пусть это будет класс MyFlatten. Изображения (и, что более актуально, промежуточные представления или, иными словами, карты, внутри модели) изначально имеют размер N x C x H x W, где:\n",
    "\n",
    "N - число семплов в батче\n",
    "C - число каналов на входе в конкретный слой. Если вход с 3 каналами, это 3, но в середине модели это может быть любое число, например, 128.\n",
    "H - высота карты\n",
    "W - ширина карты\n",
    "\n",
    "Когда мы делаем что-то вроде двумерной свертки, это стандартное представление данных, которое позволяет восстановить пространственные зависимости между элементами карты. Однако, когда мы используем полносвязные модели, каждый семпл представлен единым вектором. В простом случае больше не нужно разделять разные каналы, строки и столбцы данных. Таким образом, мы используем операцию \"вытянуть в вектор\", чтобы превратить значения C x H x W в представление C * H * W. "
   ]
  },
  {
   "cell_type": "markdown",
   "id": "73d4040a",
   "metadata": {},
   "source": [
    "**Задание**: допишите класс MyFlatten. Этот слой при вызове должен принимать на вход тензор размера B x C x H x W и возвращать тензор размера B x [C * H * W]. Пример: батч картинок 2 x 3(rgb) x 16(h) x 16(w)] -> 2 x 768"
   ]
  },
  {
   "cell_type": "code",
   "execution_count": null,
   "id": "6874d66c",
   "metadata": {},
   "outputs": [],
   "source": [
    "class MyFlatten(nn.Module):\n",
    "    pass\n",
    "    # your code"
   ]
  },
  {
   "cell_type": "code",
   "execution_count": null,
   "id": "276275b8",
   "metadata": {},
   "outputs": [],
   "source": [
    "class NeuralNetwork(nn.Module):\n",
    "    def __init__(self):\n",
    "        super().__init__()\n",
    "        self.flatten = MyFlatten()\n",
    "        self.fc = nn.Sequential(\n",
    "            nn.Linear(28*28, 512),\n",
    "            nn.ReLU(),\n",
    "            nn.Linear(512, 512),\n",
    "            nn.ReLU(),\n",
    "            nn.Linear(512, 10)\n",
    "        )\n",
    "\n",
    "    def forward(self, x):\n",
    "        x = self.flatten(x)\n",
    "        logits = self.fc(x)\n",
    "        return logits\n",
    "\n",
    "model = NeuralNetwork().to(device)\n",
    "print(model)"
   ]
  },
  {
   "cell_type": "markdown",
   "id": "2e4083c3",
   "metadata": {},
   "source": [
    "Слои: http://pytorch.org/docs/nn.html\n",
    "\n",
    "Активации: http://pytorch.org/docs/nn.html#non-linear-activations"
   ]
  },
  {
   "cell_type": "markdown",
   "id": "1eba191e",
   "metadata": {},
   "source": [
    "Зададим функцию ошибки и оптимизатор. Функция ошибки также наследуется от torch.nn.Module и может быть стандартной, состоять как из нескольких стандартных функций или их модификаций. Большое количество функций ошибки уже реализовано в Pytorch.\n",
    "\n",
    "Внутри каждой итерации обучения оптимизация происходит в три этапа:\n",
    "Вызов optimizer.zero_grad() для обнуления градиентов параметров модели. Градиенты по умолчанию складываются; чтобы избежать двойного подсчета, мы явно обнуляем их на каждой итерации.\n",
    "\n",
    "Получение градиентов для каждого веса с помощью loss.backward().\n",
    "Как только мы получили наши градиенты, остается вызвать optimizer.step(), чтобы изменить параметры в соответствии с нашим алгоритмом оптимизации. "
   ]
  },
  {
   "cell_type": "code",
   "execution_count": null,
   "id": "eec223a3",
   "metadata": {},
   "outputs": [],
   "source": [
    "loss_fn = nn.CrossEntropyLoss()\n",
    "optimizer = torch.optim.SGD(model.parameters(), lr=1e-3)"
   ]
  },
  {
   "cell_type": "markdown",
   "id": "51ae01c0",
   "metadata": {},
   "source": [
    "Задание: \n",
    "1) Выберите как минимум еще 2 разные функции ошибки из https://pytorch.org/docs/stable/nn.html#loss-functions и обучите модель с ними\n",
    "2) Выберите как минимум еще 1 оптимизатор из https://pytorch.org/docs/stable/optim.html и обучите каждую из моделей с ним\n",
    "\n",
    "В результате у вас должна получиться таблица с лучшими значениями лосса для каждого случая для обучения и теста. В идеале оформите их в виде pandas.DataFrame или другой таблицы с удобным выводом."
   ]
  },
  {
   "cell_type": "markdown",
   "id": "075289cb",
   "metadata": {},
   "source": [
    "Обучим модель. Для этого нужно описать цикл обучения и проверки модели. В наивном случае создается две функции train и validate (test), которые вызываются в цикле по эпохам. В дальнейшем, при усложнении прохода по эпохе, может появиться метод train, целый класс Trainer и т.д. Пока что реализуем наивный вариант."
   ]
  },
  {
   "cell_type": "code",
   "execution_count": null,
   "id": "8931bac2",
   "metadata": {},
   "outputs": [],
   "source": [
    "def train(dataloader, model, loss_fn, optimizer):\n",
    "    size = len(dataloader.dataset)\n",
    "    model.train()\n",
    "    for batch_idx, (inputs, targets) in enumerate(dataloader):\n",
    "        inputs, targets = inputs.to(device), targets.to(device)\n",
    "\n",
    "        # Compute prediction error\n",
    "        preds = model(inputs)\n",
    "        loss = loss_fn(preds, targets)\n",
    "\n",
    "        # Backpropagation\n",
    "        optimizer.zero_grad()\n",
    "        loss.backward()\n",
    "        optimizer.step()\n",
    "\n",
    "        if batch_idx % 100 == 0:\n",
    "            loss, current = loss.item(), (batch_швч + 1) * len(X)\n",
    "            print(f\"loss: {loss:>7f}  [{current:>5d}/{size:>5d}]\")\n",
    "            \n",
    "        ''' Чтобы сделать задание со сравнением лоссов, не забудьте \n",
    "            реализовать трекинг минимального лосса  '''"
   ]
  },
  {
   "cell_type": "code",
   "execution_count": null,
   "id": "289e5cbe",
   "metadata": {},
   "outputs": [],
   "source": [
    "def test(dataloader, model, loss_fn):\n",
    "    size = len(dataloader.dataset)\n",
    "    num_batches = len(dataloader)\n",
    "    model.eval()\n",
    "    test_loss, num_correct = 0, 0\n",
    "    with torch.no_grad():\n",
    "        for inputs, targets in dataloader:\n",
    "            # ваш код\n",
    "            num_correct += (preds.argmax(1) == y).type(torch.float).sum().item()\n",
    "    test_loss /= num_batches\n",
    "    correct /= size\n",
    "    print(f\"Test Error: \\n Accuracy: {(100*correct):>0.1f}%, Avg loss: {test_loss:>8f} \\n\")\n",
    "    \n",
    "    ''' Чтобы сделать задание со сравнением лоссов, не забудьте \n",
    "            реализовать трекинг минимального лосса  '''"
   ]
  },
  {
   "cell_type": "markdown",
   "id": "873bd8ea",
   "metadata": {},
   "source": [
    "Задание: Добавьте метрики precision и recall для проверки"
   ]
  },
  {
   "cell_type": "code",
   "execution_count": null,
   "id": "dc99a7ef",
   "metadata": {},
   "outputs": [],
   "source": [
    "epochs = 10\n",
    "for t in range(epochs):\n",
    "    print(f\"Epoch {t+1}\\n-------------------------------\")\n",
    "    # ваш код"
   ]
  },
  {
   "cell_type": "markdown",
   "id": "f45a2f7c",
   "metadata": {},
   "source": [
    "Осталось сохранить модель для дальнейшего использования. "
   ]
  },
  {
   "cell_type": "code",
   "execution_count": null,
   "id": "1ec53cf5",
   "metadata": {},
   "outputs": [],
   "source": [
    "torch.save(model.state_dict(), \"best_model.pth\")"
   ]
  },
  {
   "cell_type": "markdown",
   "id": "f674ae5e",
   "metadata": {},
   "source": [
    "Какая точность получилась? "
   ]
  },
  {
   "cell_type": "markdown",
   "id": "de5de00f",
   "metadata": {},
   "source": [
    "Задание: Перепишите датасет FashionMNISTDataset так, чтобы он возвращал вектор вместо матрицы и мою модель без слоя MyFlatten(). Запустите обучение заново. Какая точность получилась теперь?"
   ]
  },
  {
   "cell_type": "markdown",
   "id": "e2fab8d7",
   "metadata": {},
   "source": [
    "Задание: придумайте свою собственную модель, на следующем занятии сравнимся, у кого получилось достичь наилучших результатов. Для этого мне нужно будет получить как вашу версию этого ноутбука, так и веса модели."
   ]
  },
  {
   "cell_type": "markdown",
   "id": "acc2e232",
   "metadata": {},
   "source": [
    "При подборе гиперпараметров (это те параметры, которые не обучаются, например, lr) и обучении модели помните:\n",
    "1. Если параметры выбраны хорошо, улучшение видно уже после нескольких сотен итераций.\n",
    "2. Настраивайте гиперпараметры от грубых значений к точным: начните с тестирования большого диапазона гиперпараметров всего за несколько итераций обучения, чтобы найти комбинации параметров, которые вообще работают.\n",
    "3. После того, как вы нашли несколько наборов параметров, которые, по-видимому, работают, выполните более тщательный поиск по этим параметрам. Возможно, вам придется тренировать модель большее число эпох.\n",
    "4. Нужно использовать валидационный набор для поиска. Этот набор нужно выделить из тренировочного и вызывать на нем функцию test."
   ]
  },
  {
   "cell_type": "markdown",
   "id": "4e04f82d",
   "metadata": {},
   "source": [
    "Задание: Перепишите датасет FashionMNISTDataset так, чтобы он возвращал вектор вместо матрицы"
   ]
  },
  {
   "cell_type": "code",
   "execution_count": null,
   "id": "01f12c54",
   "metadata": {
    "collapsed": false,
    "jupyter": {
     "outputs_hidden": false
    }
   },
   "outputs": [],
   "source": []
  }
 ],
 "metadata": {
  "kernelspec": {
   "display_name": "Python 3",
   "language": "python",
   "name": "python3"
  },
  "language_info": {
   "codemirror_mode": {
    "name": "ipython",
    "version": 3
   },
   "file_extension": ".py",
   "mimetype": "text/x-python",
   "name": "python",
   "nbconvert_exporter": "python",
   "pygments_lexer": "ipython3",
   "version": "3.11.13"
  }
 },
 "nbformat": 4,
 "nbformat_minor": 5
}
